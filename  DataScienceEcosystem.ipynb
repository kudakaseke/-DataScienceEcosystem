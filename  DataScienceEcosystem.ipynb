{
 "cells": [
  {
   "cell_type": "markdown",
   "id": "1d565691-a5f3-433b-aad6-8bcf0058a3e2",
   "metadata": {},
   "source": [
    "# Data Science Tools and Ecosystem"
   ]
  },
  {
   "cell_type": "markdown",
   "id": "dc157afa-f2f6-4570-8dfb-6839514ab5f6",
   "metadata": {},
   "source": [
    "## In this notebook, Data Science Tools and Ecosystem are summarized."
   ]
  },
  {
   "cell_type": "markdown",
   "id": "b945e4d8-b9eb-4711-9d9d-63680b3f8af8",
   "metadata": {},
   "source": [
    "**Objectives:**\n",
    "- List popular languages for Data Science\n",
    "- List of commonly used libraries used by Data Scientists\n",
    "- Data Science tools\n",
    "- Arithmetic Expressions"
   ]
  },
  {
   "cell_type": "markdown",
   "id": "f302742a-8b8e-4863-8817-dd51c7168a8a",
   "metadata": {},
   "source": [
    "## Some of the popular languages that Data Scientists use are:\n",
    "### (i)   Python\n",
    "### (ii)  R\n",
    "### (iii) SQL\n",
    "### (iv)  Java "
   ]
  },
  {
   "cell_type": "markdown",
   "id": "cfb587f9-4087-40bf-91b1-9e55ed16be0f",
   "metadata": {},
   "source": [
    "## Some of the commonly used libraries used by Data Scientists include:\n",
    "### 1. Numpy\n",
    "### 2. Pandas\n",
    "### 3. Matplotlib\n",
    "### 4. Scikit-learn\n"
   ]
  },
  {
   "cell_type": "markdown",
   "id": "7a06e3d5-f269-448e-b509-08065a526e98",
   "metadata": {},
   "source": [
    " ## Table of Data Science tools\n",
    "| Data Science Tools |\n",
    "|--------------------|\n",
    "| Jupyter Notebook   |\n",
    "| RStudio            |\n",
    "| Spyder             |"
   ]
  },
  {
   "cell_type": "markdown",
   "id": "c5aa81c1-30a9-44c1-b5d4-1493834068da",
   "metadata": {},
   "source": [
    "# Arithmetic expression"
   ]
  },
  {
   "cell_type": "markdown",
   "id": "0d0231e4-9253-4ffa-aff6-2c656b73bd0c",
   "metadata": {},
   "source": [
    "### Below are a few examples of evaluating arithmetic expressions in Python"
   ]
  },
  {
   "cell_type": "code",
   "execution_count": 3,
   "id": "d00960e0-9be7-4140-add2-d6b17724629c",
   "metadata": {},
   "outputs": [
    {
     "name": "stdout",
     "output_type": "stream",
     "text": [
      "17\n"
     ]
    }
   ],
   "source": [
    "#This a simple arithmetic expression to multiply then add integers\n",
    "print((3*4)+5)"
   ]
  },
  {
   "cell_type": "code",
   "execution_count": 2,
   "id": "473155a5-d969-4519-8bf2-5d71ac444d9c",
   "metadata": {},
   "outputs": [
    {
     "name": "stdout",
     "output_type": "stream",
     "text": [
      "3.3333333333333335\n"
     ]
    }
   ],
   "source": [
    "#This will convert 200 minutes to hours by diving by 60.\n",
    "print(200/60)"
   ]
  },
  {
   "cell_type": "markdown",
   "id": "3ddbd908-7e74-430f-b2cf-8e090e442fdc",
   "metadata": {},
   "source": [
    "## Author\n",
    "Kudakwashe Kaseke"
   ]
  },
  {
   "cell_type": "code",
   "execution_count": null,
   "id": "1409a1fb-df67-40d7-808b-4009d506314d",
   "metadata": {},
   "outputs": [],
   "source": []
  }
 ],
 "metadata": {
  "kernelspec": {
   "display_name": "Python 3 (ipykernel)",
   "language": "python",
   "name": "python3"
  },
  "language_info": {
   "codemirror_mode": {
    "name": "ipython",
    "version": 3
   },
   "file_extension": ".py",
   "mimetype": "text/x-python",
   "name": "python",
   "nbconvert_exporter": "python",
   "pygments_lexer": "ipython3",
   "version": "3.11.7"
  }
 },
 "nbformat": 4,
 "nbformat_minor": 5
}
